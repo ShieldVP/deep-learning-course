{
  "cells": [
    {
      "cell_type": "code",
      "execution_count": null,
      "metadata": {
        "colab": {
          "base_uri": "https://localhost:8080/"
        },
        "id": "tsZpFIaRfROD",
        "outputId": "e5e6a59d-d91b-41f7-a230-fa4e9bc3e449"
      },
      "outputs": [
        {
          "output_type": "stream",
          "name": "stderr",
          "text": [
            "/usr/local/lib/python3.10/dist-packages/albumentations/__init__.py:13: UserWarning: A new version of Albumentations is available: 1.4.18 (you have 1.4.15). Upgrade using: pip install -U albumentations. To disable automatic update checks, set the environment variable NO_ALBUMENTATIONS_UPDATE to 1.\n",
            "  check_for_updates()\n"
          ]
        }
      ],
      "source": [
        "import torch\n",
        "import torch.nn as nn\n",
        "import torchvision.models\n",
        "from torch.utils.data import Dataset, DataLoader\n",
        "import torch.optim as optim\n",
        "import torch.nn.functional as F\n",
        "\n",
        "import albumentations as A\n",
        "from albumentations.pytorch import ToTensorV2\n",
        "\n",
        "from tqdm import tqdm\n",
        "from PIL import Image\n",
        "import cv2\n",
        "import matplotlib.pyplot as plt\n",
        "import numpy as np\n",
        "\n",
        "import os\n",
        "from time import time"
      ]
    },
    {
      "cell_type": "markdown",
      "source": [
        "### Get the data"
      ],
      "metadata": {
        "id": "U9HlqnlYoUJM"
      }
    },
    {
      "cell_type": "code",
      "source": [
        "import gdown\n",
        "url = 'https://drive.google.com/uc?id=10f1H2T-5W-BiqabHHtlZ4ASs19TZmg8R'\n",
        "output = 'data.zip'\n",
        "gdown.download(url, output, quiet=False)"
      ],
      "metadata": {
        "colab": {
          "base_uri": "https://localhost:8080/",
          "height": 122
        },
        "id": "AYTvLpTFfR9L",
        "outputId": "3baedbdb-2b28-4ed1-d627-647633ef1d94"
      },
      "execution_count": null,
      "outputs": [
        {
          "output_type": "stream",
          "name": "stderr",
          "text": [
            "Downloading...\n",
            "From (original): https://drive.google.com/uc?id=10f1H2T-5W-BiqabHHtlZ4ASs19TZmg8R\n",
            "From (redirected): https://drive.google.com/uc?id=10f1H2T-5W-BiqabHHtlZ4ASs19TZmg8R&confirm=t&uuid=8c91a23e-b723-404e-864e-01c84f6f72f9\n",
            "To: /content/data.zip\n",
            "100%|██████████| 979M/979M [00:19<00:00, 50.4MB/s]\n"
          ]
        },
        {
          "output_type": "execute_result",
          "data": {
            "text/plain": [
              "'data.zip'"
            ],
            "application/vnd.google.colaboratory.intrinsic+json": {
              "type": "string"
            }
          },
          "metadata": {},
          "execution_count": 2
        }
      ]
    },
    {
      "cell_type": "code",
      "source": [
        "!unzip data.zip"
      ],
      "metadata": {
        "id": "TLSvVki2fzUf"
      },
      "execution_count": null,
      "outputs": []
    },
    {
      "cell_type": "markdown",
      "source": [
        "### Utilities (0.5 point)\n",
        "\n",
        "Complete dataset to load prepared images and masks. Don't forget to use augmentations.\n",
        "\n",
        "Some of the images are 1 channels, so use `gray2rgb`."
      ],
      "metadata": {
        "id": "w1g03B9mtZeb"
      }
    },
    {
      "cell_type": "code",
      "source": [
        "def gray2rgb(img):\n",
        "    if len(img.shape) != 3:\n",
        "        img = np.dstack([img, img, img])\n",
        "    return img\n",
        "\n",
        "def get_iou(gt, pred):\n",
        "    pred = pred > 0.5\n",
        "    return (gt & pred).sum() / (gt | pred).sum()\n",
        "\n",
        "class BirdsDataset(Dataset):\n",
        "    def __init__(self, folder, ...) -> None:\n",
        "        images_folder = os.path.join(folder, 'images')\n",
        "        gt_folder = os.path.join(folder, 'gt')\n",
        "\n",
        "        for class_name in os.listdir(images_folder):\n",
        "            for fname in os.listdir(os.path.join(images_folder, class_name)):\n",
        "                # YOUR CODE HERE\n",
        "\n",
        "        self.transform = A.Compose([\n",
        "            # YOUR CODE HERE\n",
        "            ToTensorV2()\n",
        "        ])\n",
        "\n",
        "    def __getitem__(self, index):\n",
        "        # YOUR CODE HERE\n",
        "        img = ...\n",
        "        mask = ...\n",
        "        img = gray2rgb(img)\n",
        "        # YOUR CODE HERE\n",
        "        return transformed_img, transformed_mask\n",
        "\n",
        "    def __len__(self):\n",
        "        # YOUR CODE HERE\n",
        "        return"
      ],
      "metadata": {
        "id": "YT2QUTqFooxJ"
      },
      "execution_count": null,
      "outputs": []
    },
    {
      "cell_type": "markdown",
      "source": [
        "### Architecture (1 point)\n",
        "Your task for today is to build your own Unet to solve the segmentation problem.\n",
        "\n",
        "As an encoder, you can use pre-trained on IMAGENET models(or parts) from torchvision. The decoder must be trained from scratch.\n",
        "It is forbidden to use data not from the `data` folder.\n",
        "\n",
        "I advise you to experiment with the number of blocks so as not to overfit on the training sample and get good quality on validation."
      ],
      "metadata": {
        "id": "dss-ZnpTuI1V"
      }
    },
    {
      "cell_type": "code",
      "source": [
        "class DecoderBlock(nn.Module):\n",
        "    def __init__(self, in_channels, mid_channels, out_channels):\n",
        "        super().__init__()\n",
        "        # YOUR CODE HERE\n",
        "\n",
        "    def forward(self,x):\n",
        "        # YOUR CODE HERE\n",
        "        return\n",
        "\n",
        "class Unet(nn.Module):\n",
        "    def __init__(self):\n",
        "        super().__init__()\n",
        "        # YOUR CODE HERE\n",
        "        # encoder blocks\n",
        "        self.encoder1=\n",
        "        self.encoder2=\n",
        "        self.encoder3=\n",
        "        # decoder blocks\n",
        "        self.decoder1=\n",
        "        self.decoder2=\n",
        "        self.decoder3=\n",
        "\n",
        "\n",
        "    def forward(self,x):\n",
        "        # YOUR CODE HERE\n",
        "        return"
      ],
      "metadata": {
        "id": "_Elr1Uw3uITD"
      },
      "execution_count": null,
      "outputs": []
    },
    {
      "cell_type": "markdown",
      "source": [
        "### Train script (0.5 point)\n",
        "\n",
        "Complete the train and predict scripts."
      ],
      "metadata": {
        "id": "7Sq4WwZsuMeD"
      }
    },
    {
      "cell_type": "code",
      "execution_count": null,
      "metadata": {
        "id": "d_ha44iifROE"
      },
      "outputs": [],
      "source": [
        "def train_segmentation_model(data_path):\n",
        "    BATCH_SIZE = 8\n",
        "    N_EPOCH = 15\n",
        "    DEVICE = 'cuda' if torch.cuda.is_available() else 'cpu'\n",
        "\n",
        "    train_dataset = BirdsDataset(data_path + 'train')\n",
        "    val_dataset = BirdsDataset(data_path + 'val')\n",
        "    train_dataloader = DataLoader(train_dataset, batch_size=BATCH_SIZE, shuffle=True)\n",
        "    val_dataloader = DataLoader(val_dataset, batch_size=BATCH_SIZE, shuffle=False)\n",
        "\n",
        "    model = Unet().to(DEVICE)\n",
        "    optimizer = # YOUR CODE HERE\n",
        "    criterion = # YOUR CODE HERE\n",
        "    losses_train, losses_val, ious_train, ious_val = [], [], [], []\n",
        "\n",
        "    for epoch in range(N_EPOCH):\n",
        "        model.train()\n",
        "\n",
        "        for tqdm(inputs, masks) in train_dataloader:\n",
        "            inputs = inputs.to(DEVICE)\n",
        "            masks = masks.to(DEVICE)\n",
        "            # YOUR CODE HERE\n",
        "        losses_train.append(...)\n",
        "        ious_train.append(...)\n",
        "\n",
        "        model.eval()\n",
        "        with torch.no_grad():\n",
        "            for inputs, masks in tqdm(val_dataloader):\n",
        "                inputs = inputs.to(DEVICE)\n",
        "                masks = masks.to(DEVICE)\n",
        "                # YOUR CODE HERE\n",
        "        losses_val.append(...)\n",
        "        ious_val.append(...)\n",
        "\n",
        "        torch.save(model.state_dict(), f'model_{epoch}.pth')\n",
        "\n",
        "        print(f\"Epoch: {epoch}, train loss: {losses_train[-1]}, val loss: {losses_val[-1]}, train iou: {ious_train[-1]}, val iou: {ious_val[-1]}\")"
      ]
    },
    {
      "cell_type": "code",
      "source": [
        "def predict(model, img_path):\n",
        "    with torch.no_grad():\n",
        "        # YOUR CODE HERE TO PREPARE IMAGE\n",
        "        # GET PREDICTIONS\n",
        "        # POST PROCESS\n",
        "        return segm\n",
        "\n",
        "def get_model(path):\n",
        "    model = Unet()\n",
        "    model.load_state_dict(torch.load(path))\n",
        "    model.eval()\n",
        "    return model"
      ],
      "metadata": {
        "id": "96EkIQmutpdS"
      },
      "execution_count": null,
      "outputs": []
    },
    {
      "cell_type": "code",
      "execution_count": null,
      "metadata": {
        "id": "LzZS9Z2jfROF"
      },
      "outputs": [],
      "source": [
        "train_segmentation_model('data/')"
      ]
    },
    {
      "cell_type": "markdown",
      "source": [
        "You can also experiment with models and write a small report about results. If the report will be meaningful, you will receive an extra point."
      ],
      "metadata": {
        "id": "MWKD09whySKA"
      }
    },
    {
      "cell_type": "markdown",
      "source": [
        "### Testing (8 points)\n",
        "Your model will be tested on the new data, similar to validation, so use techniques to prevent overfitting the model.\n",
        "\n",
        "* IoU > 0.85 — 8 points\n",
        "* IoU > 0.80 — 7 points\n",
        "* IoU > 0.75 — 6 points\n",
        "* IoU > 0.70 — 5 points\n",
        "* IoU > 0.60 — 4 points\n",
        "* IoU > 0.50 — 3 points\n",
        "* IoU > 0.40 — 2 points\n",
        "* IoU > 0.30 — 1 points"
      ],
      "metadata": {
        "id": "zCHacSHutHo4"
      }
    },
    {
      "cell_type": "code",
      "source": [
        "model = get_model('model_14.pth').to('cuda')"
      ],
      "metadata": {
        "id": "DZ6h11Q0tUHN"
      },
      "execution_count": null,
      "outputs": []
    },
    {
      "cell_type": "code",
      "execution_count": null,
      "metadata": {
        "id": "yV9zadusfROF"
      },
      "outputs": [],
      "source": [
        "ious, times = [], []\n",
        "test_dir = 'data/val/'\n",
        "\n",
        "for class_name in tqdm(sorted(os.listdir(os.path.join(test_dir, 'images')))):\n",
        "    for img_name in sorted(os.listdir(os.path.join(test_dir, 'images', class_name))):\n",
        "\n",
        "        t_start = time()\n",
        "        pred = predict(model, os.path.join(test_dir, 'images', class_name, img_name))\n",
        "        times.append(time() - t_start)\n",
        "\n",
        "        gt_name = img_name.replace('jpg', 'png')\n",
        "        gt = np.asarray(Image.open(os.path.join(test_dir, 'gt', class_name, gt_name)), dtype = np.uint8)\n",
        "        if len(gt.shape) > 2:\n",
        "            gt = gt[:, :, 0]\n",
        "\n",
        "        iou = get_iou(gt==255, pred>0.5)\n",
        "        ious.append(iou)\n",
        "\n",
        "np.mean(ious), np.mean(times)"
      ]
    },
    {
      "cell_type": "markdown",
      "source": [
        "### Compression (1 point)"
      ],
      "metadata": {
        "id": "47KgrqdpvKWS"
      }
    },
    {
      "cell_type": "markdown",
      "source": [
        "Try to speed up the model in any way without losing more than 1% in iou score.\n",
        "For example [torch2trt](https://github.com/NVIDIA-AI-IOT/torch2trt)"
      ],
      "metadata": {
        "id": "4kJiLB__vTC3"
      }
    },
    {
      "cell_type": "code",
      "source": [
        "def get_fast_model():\n",
        "    # YOUR CODE HERE\n",
        "    return model"
      ],
      "metadata": {
        "id": "UQyNHbt0vtMu"
      },
      "execution_count": null,
      "outputs": []
    },
    {
      "cell_type": "code",
      "source": [
        "fast_model = get_fast_model().to('cuda')"
      ],
      "metadata": {
        "id": "f2DedST0v6aF"
      },
      "execution_count": null,
      "outputs": []
    },
    {
      "cell_type": "code",
      "source": [
        "ious, times = [], []\n",
        "test_dir = 'data/val/'\n",
        "\n",
        "for class_name in tqdm(sorted(os.listdir(os.path.join(test_dir, 'images')))):\n",
        "    for img_name in sorted(os.listdir(os.path.join(test_dir, 'images', class_name))):\n",
        "\n",
        "        t_start = time()\n",
        "        pred = predict(fast_model, os.path.join(test_dir, 'images', class_name, img_name))\n",
        "        times.append(time() - t_start)\n",
        "\n",
        "        gt_name = img_name.replace('jpg', 'png')\n",
        "        gt = np.asarray(Image.open(os.path.join(test_dir, 'gt', class_name, gt_name)), dtype = np.uint8)\n",
        "        if len(gt.shape) > 2:\n",
        "            gt = gt[:, :, 0]\n",
        "\n",
        "        iou = get_iou(gt==255, pred>0.5)\n",
        "        ious.append(iou)\n",
        "\n",
        "np.mean(ious), np.mean(times)"
      ],
      "metadata": {
        "id": "ryWUekS2vlv8"
      },
      "execution_count": null,
      "outputs": []
    },
    {
      "cell_type": "markdown",
      "source": [
        "**Bonus:** For the best iou score on test(without compression) in group you will get 1.5, 1, 0.5 extra points(for 1st, 2nd, 3rd places)."
      ],
      "metadata": {
        "id": "QCdMgBoOwXAb"
      }
    },
    {
      "cell_type": "code",
      "source": [],
      "metadata": {
        "id": "daanikNkwo5t"
      },
      "execution_count": null,
      "outputs": []
    }
  ],
  "metadata": {
    "kernelspec": {
      "display_name": "Python 3",
      "name": "python3"
    },
    "language_info": {
      "codemirror_mode": {
        "name": "ipython",
        "version": 3
      },
      "file_extension": ".py",
      "mimetype": "text/x-python",
      "name": "python",
      "nbconvert_exporter": "python",
      "pygments_lexer": "ipython3",
      "version": "3.12.2"
    },
    "colab": {
      "provenance": [],
      "gpuType": "T4"
    },
    "accelerator": "GPU"
  },
  "nbformat": 4,
  "nbformat_minor": 0
}